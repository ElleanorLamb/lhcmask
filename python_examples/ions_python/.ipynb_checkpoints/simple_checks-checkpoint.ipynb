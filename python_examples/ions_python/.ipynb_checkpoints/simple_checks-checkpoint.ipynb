{
 "cells": [
  {
   "cell_type": "code",
   "execution_count": 1,
   "metadata": {},
   "outputs": [],
   "source": [
    "import sys\n",
    "import numpy as np\n",
    "import pandas as pd\n",
    "sys.path.append('/afs/cern.ch/eng/tracking-tools/modules')\n",
    "import pymask as pm"
   ]
  },
  {
   "cell_type": "code",
   "execution_count": 2,
   "metadata": {},
   "outputs": [],
   "source": [
    "# opticsfile.21\n",
    "#!***BETAS in IR1 and IR5***\n",
    "#betx_IP1    :=          0.500000 ;\n",
    "#bety_IP1    :=          0.500000 ;\n",
    "#betx_IP5    :=          0.500000 ;\n",
    "#bety_IP5    :=          0.500000 ;\n",
    "#betxIP2b1=    0.500000\n",
    "#betxIP8b1=    1.500000\n",
    "#Qxb1 =  62.310000;  Qyb1 =  60.320000;  Qpxb1=   2.000000;  Qpyb1=   2.000000;"
   ]
  },
  {
   "cell_type": "markdown",
   "metadata": {},
   "source": [
    "# Run 2"
   ]
  },
  {
   "cell_type": "markdown",
   "metadata": {},
   "source": [
    "## Thick"
   ]
  },
  {
   "cell_type": "code",
   "execution_count": 3,
   "metadata": {},
   "outputs": [],
   "source": [
    "command_log_file='log_run2.madx'\n",
    "stdout_file='stdout_run2.madx'\n",
    "Madx_run2 = pm.Madxp\n",
    "with open(stdout_file, 'w') as myFile:\n",
    "    mad_run2 = Madx_run2(stdout=myFile,command_log=command_log_file)\n",
    "    \n",
    "\n",
    "mad_run2.input('''\n",
    "Option,  warn,info;\n",
    "System,\"rm -rf temp\";\n",
    "System,\"mkdir temp\";\n",
    "\n",
    "system,\"ln -fns /afs/cern.ch/eng/lhc/optics/runII optics_runII\";\n",
    "\n",
    "call, file=\"optics_runII/2018/lhc_as-built.seq\";\n",
    "\n",
    "call, file=\"optics_runII/2018/ION/opticsfile.21\";\n",
    "\n",
    "beam, particle=ion,sequence=lhcb1,\n",
    "        energy=574000.0,\n",
    "        sigt=0.0824,\n",
    "        bv=1,\n",
    "        npart=180000000.0,\n",
    "        sige=0.000102,\n",
    "        ex=5.567661977351915e-10,\n",
    "        ey=5.567661977351915e-10,\n",
    "        mass = 193.68715,\n",
    "        charge=82;\n",
    "\n",
    "beam, particle=ion,sequence=lhcb2,\n",
    "        energy=574000.0,\n",
    "        sigt=0.0824,\n",
    "        bv=-1,\n",
    "        npart=180000000.0,\n",
    "        sige=0.000102,\n",
    "        ex=5.567661977351915e-10,\n",
    "        ey=5.567661977351915e-10,\n",
    "        mass = 193.68715,\n",
    "        charge=82;\n",
    "    \n",
    "\n",
    "use, sequence=lhcb1;\n",
    "select, flag=twiss, clear;\n",
    "twiss,chrom,file=\"twiss.b1.tfs\";\n",
    "\n",
    "''')\n",
    "\n",
    "twiss_run2 = mad_run2.get_twiss_df(table_name='twiss')\n",
    "summ_run2  = mad_run2.table.summ.dframe()"
   ]
  },
  {
   "cell_type": "code",
   "execution_count": 4,
   "metadata": {},
   "outputs": [
    {
     "name": "stdout",
     "output_type": "stream",
     "text": [
      "Betas:\n",
      "0.5000007442953592 0.5000005377490544 0.5000007853535532 1.500002711280509\n",
      "\n",
      "Tunes:\n",
      "62.30999961049971 60.320000086138016 1.6888101086465213 1.5651889597734225\n",
      "\n",
      "Chroma:\n",
      "1.6888101086465213 1.5651889597734225\n",
      "\n"
     ]
    }
   ],
   "source": [
    "print('Betas:')\n",
    "print(twiss_run2.loc['ip1:1'].betx, twiss_run2.loc['ip2:1'].betx, twiss_run2.loc['ip5:1'].betx, twiss_run2.loc['ip8:1'].betx)\n",
    "print()\n",
    "print('Tunes:')\n",
    "print(summ_run2['q1'].values[0], summ_run2['q2'].values[0], summ_run2['dq1'].values[0], summ_run2['dq2'].values[0])\n",
    "print()\n",
    "print('Chroma:')\n",
    "print(summ_run2['dq1'].values[0], summ_run2['dq2'].values[0])\n",
    "print()"
   ]
  },
  {
   "cell_type": "markdown",
   "metadata": {},
   "source": [
    "## Thin"
   ]
  },
  {
   "cell_type": "code",
   "execution_count": 5,
   "metadata": {},
   "outputs": [],
   "source": [
    "command_log_file='log_run2_thin.madx'\n",
    "stdout_file='stdout_run2_thin.madx'\n",
    "Madx_run2_thin = pm.Madxp\n",
    "with open(stdout_file, 'w') as myFile:\n",
    "    mad_run2_thin = Madx_run2_thin(stdout=myFile,command_log=command_log_file)\n",
    "    \n",
    "\n",
    "mad_run2_thin.input('''\n",
    "Option,  warn,info;\n",
    "System,\"rm -rf temp\";\n",
    "System,\"mkdir temp\";\n",
    "\n",
    "system,\"ln -fns /afs/cern.ch/eng/lhc/optics/runII optics_runII\";\n",
    "\n",
    "call, file=\"optics_runII/2018/lhc_as-built.seq\";\n",
    "\n",
    "slicefactor=8;\n",
    "call, file=\"optics_runII/2018/toolkit/myslice.madx\";\n",
    "beam;\n",
    "use, sequence=lhcb1; makethin,sequence=lhcb1, style=teapot, makedipedge=true;\n",
    "use, sequence=lhcb2; makethin,sequence=lhcb2, style=teapot, makedipedge=true;\n",
    "seqedit, sequence=lhcb1; flatten;cycle, start=IP3; flatten; endedit;\n",
    "seqedit, sequence=lhcb2; flatten;cycle, start=IP3; flatten; endedit;\n",
    "\n",
    "\n",
    "call, file=\"optics_runII/2018/ION/opticsfile.21\";\n",
    "\n",
    "beam, particle=ion,sequence=lhcb1,\n",
    "        energy=574000.0,\n",
    "        sigt=0.0824,\n",
    "        bv=1,\n",
    "        npart=180000000.0,\n",
    "        sige=0.000102,\n",
    "        ex=5.567661977351915e-10,\n",
    "        ey=5.567661977351915e-10,\n",
    "        mass = 193.68715,\n",
    "        charge=82;\n",
    "\n",
    "beam, particle=ion,sequence=lhcb2,\n",
    "        energy=574000.0,\n",
    "        sigt=0.0824,\n",
    "        bv=-1,\n",
    "        npart=180000000.0,\n",
    "        sige=0.000102,\n",
    "        ex=5.567661977351915e-10,\n",
    "        ey=5.567661977351915e-10,\n",
    "        mass = 193.68715,\n",
    "        charge=82;\n",
    "    \n",
    "\n",
    "use, sequence=lhcb1;\n",
    "select, flag=twiss, clear;\n",
    "twiss,chrom,file=\"twiss.b1.tfs\";\n",
    "\n",
    "''')\n",
    "\n",
    "twiss_run2_thin = mad_run2_thin.get_twiss_df(table_name='twiss')\n",
    "summ_run2_thin  = mad_run2_thin.table.summ.dframe()"
   ]
  },
  {
   "cell_type": "code",
   "execution_count": 6,
   "metadata": {},
   "outputs": [
    {
     "name": "stdout",
     "output_type": "stream",
     "text": [
      "Betas:\n",
      "0.500006083810991 0.5000013682156647 0.5000328915257305 1.5000835928769665\n",
      "\n",
      "Tunes:\n",
      "62.30997838533391 60.31993864540058 1.6115409877670572 1.5264322215102766\n",
      "\n",
      "Chroma:\n",
      "1.6115409877670572 1.5264322215102766\n",
      "\n"
     ]
    }
   ],
   "source": [
    "print('Betas:')\n",
    "print(twiss_run2_thin.loc['ip1:1'].betx, twiss_run2_thin.loc['ip2:1'].betx, twiss_run2_thin.loc['ip5:1'].betx, twiss_run2_thin.loc['ip8:1'].betx)\n",
    "print()\n",
    "print('Tunes:')\n",
    "print(summ_run2_thin['q1'].values[0], summ_run2_thin['q2'].values[0], summ_run2_thin['dq1'].values[0], summ_run2_thin['dq2'].values[0])\n",
    "print()\n",
    "print('Chroma:')\n",
    "print(summ_run2_thin['dq1'].values[0], summ_run2_thin['dq2'].values[0])\n",
    "print()"
   ]
  },
  {
   "cell_type": "markdown",
   "metadata": {},
   "source": [
    "# Run 3"
   ]
  },
  {
   "cell_type": "markdown",
   "metadata": {},
   "source": [
    "## Thick"
   ]
  },
  {
   "cell_type": "code",
   "execution_count": 7,
   "metadata": {},
   "outputs": [],
   "source": [
    "command_log_file='log_run3.madx'\n",
    "stdout_file='stdout_run3.madx'\n",
    "Madx_run3 = pm.Madxp\n",
    "with open(stdout_file, 'w') as myFile:\n",
    "    mad_run3 = Madx_run3(stdout=myFile,command_log=command_log_file)\n",
    "    \n",
    "\n",
    "mad_run3.input('''\n",
    "Option,  warn,info;\n",
    "System,\"rm -rf temp\";\n",
    "System,\"mkdir temp\";\n",
    "\n",
    "system,\"ln -fns /afs/cern.ch/eng/lhc/optics/runII optics_runII\";\n",
    "system,\"ln -fns /afs/cern.ch/eng/lhc/optics/runIII optics_runIII\";\n",
    "\n",
    "call, file=\"optics_runII/2018/lhc_as-built.seq\";\n",
    "call, file=\"optics_runIII/RunIII_dev/IR7-Run3seqedit.madx\";\n",
    "\n",
    "call, file=\"optics_runII/2018/ION/opticsfile.21\";\n",
    "\n",
    "beam, particle=ion,sequence=lhcb1,\n",
    "        energy=574000.0,\n",
    "        sigt=0.0824,\n",
    "        bv=1,\n",
    "        npart=180000000.0,\n",
    "        sige=0.000102,\n",
    "        ex=5.567661977351915e-10,\n",
    "        ey=5.567661977351915e-10,\n",
    "        mass = 193.68715,\n",
    "        charge=82;\n",
    "\n",
    "beam, particle=ion,sequence=lhcb2,\n",
    "        energy=574000.0,\n",
    "        sigt=0.0824,\n",
    "        bv=-1,\n",
    "        npart=180000000.0,\n",
    "        sige=0.000102,\n",
    "        ex=5.567661977351915e-10,\n",
    "        ey=5.567661977351915e-10,\n",
    "        mass = 193.68715,\n",
    "        charge=82;\n",
    "    \n",
    "\n",
    "use, sequence=lhcb1;\n",
    "select, flag=twiss, clear;\n",
    "twiss,chrom,file=\"twiss.b1.tfs\";\n",
    "\n",
    "''')\n",
    "\n",
    "twiss_run3 = mad_run3.get_twiss_df(table_name='twiss')\n",
    "summ_run3  = mad_run3.table.summ.dframe()"
   ]
  },
  {
   "cell_type": "code",
   "execution_count": 8,
   "metadata": {},
   "outputs": [
    {
     "name": "stdout",
     "output_type": "stream",
     "text": [
      "Betas:\n",
      "0.48542308337970375 0.569955970422184 0.4679132509890742 1.6470962330784027\n",
      "\n",
      "Tunes:\n",
      "62.31552622778901 60.31933687423502 6.6604829598304605 5.322742964608551\n",
      "\n",
      "Chroma:\n",
      "6.6604829598304605 5.322742964608551\n",
      "\n"
     ]
    }
   ],
   "source": [
    "print('Betas:')\n",
    "print(twiss_run3.loc['ip1:1'].betx, twiss_run3.loc['ip2:1'].betx, twiss_run3.loc['ip5:1'].betx, twiss_run3.loc['ip8:1'].betx)\n",
    "print()\n",
    "print('Tunes:')\n",
    "print(summ_run3['q1'].values[0], summ_run3['q2'].values[0], summ_run3['dq1'].values[0], summ_run3['dq2'].values[0])\n",
    "print()\n",
    "print('Chroma:')\n",
    "print(summ_run3['dq1'].values[0], summ_run3['dq2'].values[0])\n",
    "print()"
   ]
  },
  {
   "cell_type": "markdown",
   "metadata": {},
   "source": [
    "## Thin"
   ]
  },
  {
   "cell_type": "code",
   "execution_count": 9,
   "metadata": {},
   "outputs": [],
   "source": [
    "command_log_file='log_run3_thin.madx'\n",
    "stdout_file='stdout_run3_thin.madx'\n",
    "Madx_run3_thin = pm.Madxp\n",
    "with open(stdout_file, 'w') as myFile:\n",
    "    mad_run3_thin = Madx_run3_thin(stdout=myFile,command_log=command_log_file)\n",
    "    \n",
    "\n",
    "mad_run3_thin.input('''\n",
    "Option,  warn,info;\n",
    "System,\"rm -rf temp\";\n",
    "System,\"mkdir temp\";\n",
    "\n",
    "system,\"ln -fns /afs/cern.ch/eng/lhc/optics/runII optics_runII\";\n",
    "\n",
    "call, file=\"optics_runII/2018/lhc_as-built.seq\";\n",
    "call, file=\"optics_runIII/RunIII_dev/IR7-Run3seqedit.madx\";\n",
    "\n",
    "slicefactor=8;\n",
    "call, file=\"optics_runII/2018/toolkit/myslice.madx\";\n",
    "beam;\n",
    "use, sequence=lhcb1; makethin,sequence=lhcb1, style=teapot, makedipedge=true;\n",
    "use, sequence=lhcb2; makethin,sequence=lhcb2, style=teapot, makedipedge=true;\n",
    "seqedit, sequence=lhcb1; flatten;cycle, start=IP3; flatten; endedit;\n",
    "seqedit, sequence=lhcb2; flatten;cycle, start=IP3; flatten; endedit;\n",
    "\n",
    "\n",
    "call, file=\"optics_runII/2018/ION/opticsfile.21\";\n",
    "\n",
    "beam, particle=ion,sequence=lhcb1,\n",
    "        energy=574000.0,\n",
    "        sigt=0.0824,\n",
    "        bv=1,\n",
    "        npart=180000000.0,\n",
    "        sige=0.000102,\n",
    "        ex=5.567661977351915e-10,\n",
    "        ey=5.567661977351915e-10,\n",
    "        mass = 193.68715,\n",
    "        charge=82;\n",
    "\n",
    "beam, particle=ion,sequence=lhcb2,\n",
    "        energy=574000.0,\n",
    "        sigt=0.0824,\n",
    "        bv=-1,\n",
    "        npart=180000000.0,\n",
    "        sige=0.000102,\n",
    "        ex=5.567661977351915e-10,\n",
    "        ey=5.567661977351915e-10,\n",
    "        mass = 193.68715,\n",
    "        charge=82;\n",
    "    \n",
    "\n",
    "use, sequence=lhcb1;\n",
    "select, flag=twiss, clear;\n",
    "twiss,chrom,file=\"twiss.b1.tfs\";\n",
    "\n",
    "''')\n",
    "\n",
    "twiss_run3_thin = mad_run3_thin.get_twiss_df(table_name='twiss')\n",
    "summ_run3_thin  = mad_run3_thin.table.summ.dframe()"
   ]
  },
  {
   "cell_type": "code",
   "execution_count": 11,
   "metadata": {},
   "outputs": [
    {
     "name": "stdout",
     "output_type": "stream",
     "text": [
      "Betas:\n",
      "0.4854333647067289 0.5699530229486296 0.4679393195574321 1.6472001697038614\n",
      "\n",
      "Tunes:\n",
      "62.315505224660946 60.31927524243035 6.58233008721254 5.282948109197605\n",
      "\n",
      "Chroma:\n",
      "6.58233008721254 5.282948109197605\n",
      "\n"
     ]
    }
   ],
   "source": [
    "print('Betas:')\n",
    "print(twiss_run3_thin.loc['ip1:1'].betx, twiss_run3_thin.loc['ip2:1'].betx, twiss_run3_thin.loc['ip5:1'].betx, twiss_run3_thin.loc['ip8:1'].betx)\n",
    "print()\n",
    "print('Tunes:')\n",
    "print(summ_run3_thin['q1'].values[0], summ_run3_thin['q2'].values[0], summ_run3_thin['dq1'].values[0], summ_run3_thin['dq2'].values[0])\n",
    "print()\n",
    "print('Chroma:')\n",
    "print(summ_run3_thin['dq1'].values[0], summ_run3_thin['dq2'].values[0])\n",
    "print()"
   ]
  },
  {
   "cell_type": "code",
   "execution_count": null,
   "metadata": {},
   "outputs": [],
   "source": []
  }
 ],
 "metadata": {
  "kernelspec": {
   "display_name": "Python 3",
   "language": "python",
   "name": "python3"
  },
  "language_info": {
   "codemirror_mode": {
    "name": "ipython",
    "version": 3
   },
   "file_extension": ".py",
   "mimetype": "text/x-python",
   "name": "python",
   "nbconvert_exporter": "python",
   "pygments_lexer": "ipython3",
   "version": "3.6.9"
  }
 },
 "nbformat": 4,
 "nbformat_minor": 2
}
